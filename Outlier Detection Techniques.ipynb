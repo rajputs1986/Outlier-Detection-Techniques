{
 "cells": [
  {
   "cell_type": "markdown",
   "metadata": {},
   "source": [
    "### What is outlier?\n",
    "An outlier is a data point that :\n",
    "1) is a noise in dataset\n",
    "2) deviates from normal distribution of dataset. \n",
    "3) distant from all other observations (lies outside the overall distribution of the dataset)"
   ]
  },
  {
   "cell_type": "markdown",
   "metadata": {},
   "source": [
    "### Why to consider outlier detection\n",
    "1. It affect algorithm performance as in presence of outlier, algorithm tries to fit noise present in data"
   ]
  },
  {
   "cell_type": "markdown",
   "metadata": {},
   "source": [
    "### Should I handle Outlier?\n",
    "\n",
    "1) Should be keep or removed from problem based on problem. \n",
    "Example-1: Fraud detection, anomaly detection - should be kept in the dataset\n",
    "Example-2: Predictive or classification problem - should be removed"
   ]
  },
  {
   "cell_type": "markdown",
   "metadata": {},
   "source": [
    "### Import Libraries"
   ]
  },
  {
   "cell_type": "code",
   "execution_count": 1,
   "metadata": {},
   "outputs": [],
   "source": [
    "import numpy as np\n",
    "import matplotlib.pyplot as plt\n",
    "%matplotlib inline"
   ]
  },
  {
   "cell_type": "markdown",
   "metadata": {},
   "source": [
    "### What are the criteria to identify an outlier?\n",
    "\n",
    "1. Data point that falls outside of 1.5 times of an interquartile range above the 3rd quartile and below the 1st quartile\n",
    "2. Data point that falls outside of 3 standard deviations. we can use a z score and if the z score falls outside of 2 standard deviation\n",
    "\n",
    "### What is the reason for an outlier to exists in a dataset?\n",
    "\n",
    "1. Variability in the data\n",
    "2. An experimental measurement error\n",
    "3. Manual error\n",
    "4. Intentional\n",
    "\n",
    "### What are the impacts of having outliers in a dataset?\n",
    "\n",
    "1. It causes various problems during our statistical analysis and cause poor accuracy\n",
    "2. It may cause a significant impact on the mean and the standard deviation\n",
    "\n",
    "### Various ways of finding the outlier.\n",
    "1. Using scatter plots\n",
    "2. Box plot\n",
    "3. using z score\n",
    "4. using the IQR interquantile range\n",
    "5. Eliptical method\n",
    "\n"
   ]
  },
  {
   "cell_type": "code",
   "execution_count": 33,
   "metadata": {},
   "outputs": [],
   "source": [
    "dataset= [11,10,12,14,12,15,14,13,15,102,12,14,17,19,107, 10,13,12,14,12,108,12,11,14,13,15,10,15,12,10,14,13,15,10]"
   ]
  },
  {
   "cell_type": "code",
   "execution_count": 34,
   "metadata": {},
   "outputs": [],
   "source": [
    "#dataset = np.random.randint(1,1000,50)\n",
    "#dataset"
   ]
  },
  {
   "cell_type": "markdown",
   "metadata": {},
   "source": [
    "## Detecting outlier using Z score\n",
    "\n",
    "### Using Z score\n",
    "\n",
    "Formula for Z score = (Observation — Mean)/Standard Deviation\n",
    "\n",
    "z = (X — μ) / σ"
   ]
  },
  {
   "cell_type": "code",
   "execution_count": 38,
   "metadata": {},
   "outputs": [],
   "source": [
    "outliers=[]\n",
    "def detect_outliers(data):\n",
    "    \n",
    "    threshold=3\n",
    "    mean = np.mean(data)\n",
    "    std =np.std(data)\n",
    "    \n",
    "    \n",
    "    for i in data:\n",
    "        z_score= (i - mean)/std \n",
    "        if np.abs(z_score) > threshold:\n",
    "            outliers.append(i)\n",
    "    return outliers"
   ]
  },
  {
   "cell_type": "code",
   "execution_count": 39,
   "metadata": {},
   "outputs": [],
   "source": [
    "outlier_pt=detect_outliers(dataset)"
   ]
  },
  {
   "cell_type": "code",
   "execution_count": 40,
   "metadata": {},
   "outputs": [
    {
     "data": {
      "text/plain": [
       "[102, 107, 108]"
      ]
     },
     "execution_count": 40,
     "metadata": {},
     "output_type": "execute_result"
    }
   ],
   "source": [
    "outlier_pt"
   ]
  },
  {
   "cell_type": "markdown",
   "metadata": {},
   "source": [
    "## InterQuantile Range\n",
    "\n",
    "75%- 25% values in a dataset\n",
    "\n",
    "### Steps\n",
    "#### 1. Arrange the data in increasing order\n",
    "#### 2. Calculate first(q1) and third quartile(q3)\n",
    "#### 3. Find interquartile range (q3-q1)\n",
    "#### 4.Find lower bound q1*1.5\n",
    "#### 5.Find upper bound q3*1.5\n",
    "\n",
    "Anything that lies outside of lower and upper bound is an outlier"
   ]
  },
  {
   "cell_type": "code",
   "execution_count": 41,
   "metadata": {},
   "outputs": [
    {
     "data": {
      "text/plain": [
       "[10,\n",
       " 10,\n",
       " 10,\n",
       " 10,\n",
       " 10,\n",
       " 11,\n",
       " 11,\n",
       " 12,\n",
       " 12,\n",
       " 12,\n",
       " 12,\n",
       " 12,\n",
       " 12,\n",
       " 12,\n",
       " 13,\n",
       " 13,\n",
       " 13,\n",
       " 13,\n",
       " 14,\n",
       " 14,\n",
       " 14,\n",
       " 14,\n",
       " 14,\n",
       " 14,\n",
       " 15,\n",
       " 15,\n",
       " 15,\n",
       " 15,\n",
       " 15,\n",
       " 17,\n",
       " 19,\n",
       " 102,\n",
       " 107,\n",
       " 108]"
      ]
     },
     "execution_count": 41,
     "metadata": {},
     "output_type": "execute_result"
    }
   ],
   "source": [
    "## Perform all the steps of IQR\n",
    "sorted(dataset)"
   ]
  },
  {
   "cell_type": "code",
   "execution_count": 42,
   "metadata": {},
   "outputs": [],
   "source": [
    "quantile1, quantile3= np.percentile(dataset,[25,75])"
   ]
  },
  {
   "cell_type": "code",
   "execution_count": 43,
   "metadata": {},
   "outputs": [
    {
     "name": "stdout",
     "output_type": "stream",
     "text": [
      "12.0 15.0\n"
     ]
    }
   ],
   "source": [
    "print(quantile1,quantile3)"
   ]
  },
  {
   "cell_type": "code",
   "execution_count": 44,
   "metadata": {},
   "outputs": [
    {
     "name": "stdout",
     "output_type": "stream",
     "text": [
      "3.0\n"
     ]
    }
   ],
   "source": [
    "## Find the IQR\n",
    "\n",
    "iqr_value=quantile3-quantile1\n",
    "print(iqr_value)"
   ]
  },
  {
   "cell_type": "code",
   "execution_count": 46,
   "metadata": {},
   "outputs": [],
   "source": [
    "## Find the lower bound value and the higher bound value\n",
    "\n",
    "lower_bound_val = quantile1 -(1.5 * iqr_value) \n",
    "upper_bound_val = quantile3 +(1.5 * iqr_value) "
   ]
  },
  {
   "cell_type": "code",
   "execution_count": 47,
   "metadata": {},
   "outputs": [
    {
     "name": "stdout",
     "output_type": "stream",
     "text": [
      "7.5 19.5\n"
     ]
    }
   ],
   "source": [
    "print(lower_bound_val,upper_bound_val)"
   ]
  },
  {
   "cell_type": "code",
   "execution_count": 51,
   "metadata": {},
   "outputs": [
    {
     "data": {
      "text/plain": [
       "array([False, False, False, False, False, False, False, False, False,\n",
       "        True, False, False, False, False,  True, False, False, False,\n",
       "       False, False,  True, False, False, False, False, False, False,\n",
       "       False, False, False, False, False, False, False])"
      ]
     },
     "execution_count": 51,
     "metadata": {},
     "output_type": "execute_result"
    }
   ],
   "source": [
    "dataset > upper_bound_val"
   ]
  },
  {
   "cell_type": "code",
   "execution_count": 61,
   "metadata": {},
   "outputs": [
    {
     "data": {
      "text/plain": [
       "array([False, False, False, False, False, False, False, False, False,\n",
       "       False, False, False, False, False, False, False, False, False,\n",
       "       False, False, False, False, False, False, False, False, False,\n",
       "       False, False, False, False, False, False, False])"
      ]
     },
     "execution_count": 61,
     "metadata": {},
     "output_type": "execute_result"
    }
   ],
   "source": [
    "dataset < lower_bound_val"
   ]
  },
  {
   "cell_type": "code",
   "execution_count": 76,
   "metadata": {},
   "outputs": [
    {
     "data": {
      "text/plain": [
       "(array([ 9, 14, 20], dtype=int64),)"
      ]
     },
     "execution_count": 76,
     "metadata": {},
     "output_type": "execute_result"
    }
   ],
   "source": [
    "outlier_indices = np.where((dataset > upper_bound_val)==True)\n",
    "outlier_indices"
   ]
  },
  {
   "cell_type": "code",
   "execution_count": 97,
   "metadata": {},
   "outputs": [
    {
     "name": "stdout",
     "output_type": "stream",
     "text": [
      "outliers: [102, 107, 108]\n"
     ]
    }
   ],
   "source": [
    "print('outliers:', [dataset[i] for i in outlier_indices[0]])"
   ]
  },
  {
   "cell_type": "markdown",
   "metadata": {},
   "source": [
    "### DONE"
   ]
  }
 ],
 "metadata": {
  "kernelspec": {
   "display_name": "Python 3",
   "language": "python",
   "name": "python3"
  },
  "language_info": {
   "codemirror_mode": {
    "name": "ipython",
    "version": 3
   },
   "file_extension": ".py",
   "mimetype": "text/x-python",
   "name": "python",
   "nbconvert_exporter": "python",
   "pygments_lexer": "ipython3",
   "version": "3.8.8"
  }
 },
 "nbformat": 4,
 "nbformat_minor": 2
}
